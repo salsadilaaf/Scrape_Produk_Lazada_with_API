{
  "cells": [
    {
      "cell_type": "code",
      "execution_count": null,
      "metadata": {
        "id": "D8OOxm7RIToG"
      },
      "outputs": [],
      "source": [
        "import requests\n",
        "import pandas as pd\n",
        "import math\n",
        "import random\n",
        "import time"
      ]
    },
    {
      "cell_type": "markdown",
      "source": [
        "#Cara Pertama"
      ],
      "metadata": {
        "id": "J1aOUYhVI1ZB"
      }
    },
    {
      "cell_type": "code",
      "execution_count": null,
      "metadata": {
        "id": "unc0eg8zIToJ"
      },
      "outputs": [],
      "source": [
        "base_url = 'https://www.lazada.co.id/catalog/?ajax=true&page=1&q=dry%20shampoo%20gel'\n",
        "def get_urls():\n",
        "    #req = requests.get(base_url).json()\n",
        "    #tot_produk = int(req['mainInfo']['totalResults'])\\\n",
        "    #total_page= math.ceil(total_produk/40)\n",
        "\n",
        "    urls = []\n",
        "    # for i in range(1, total_page+1)\n",
        "    for i in range(1, 6):\n",
        "        url = 'https://www.lazada.co.id/catalog/?ajax=true&page={}&q=dry%20shampoo%20gel'.format(i)\n",
        "        urls.append(url)\n",
        "    return urls\n",
        "def scrape(url):\n",
        "    headers = {\n",
        "    \"User-Agent\": \"Mozilla/5.0 (Windows NT 10.0; Win64; x64)\",\n",
        "    }\n",
        "\n",
        "    # Tambahkan delay sebelum request untuk menghindari pemblokiran\n",
        "    time.sleep(random.randint(2, 6))\n",
        "\n",
        "    req = requests.get(url, headers=headers)\n",
        "\n",
        "    if req.status_code != 200:\n",
        "        print(f\"❌ Gagal mengakses {url} - Status Code: {req.status_code}\")\n",
        "        return []\n",
        "\n",
        "    try:\n",
        "        data = req.json()\n",
        "    except requests.exceptions.JSONDecodeError:\n",
        "        print(f\"❌ Gagal parsing JSON dari {url}\")\n",
        "        print(req.text[:500])  # Cetak sebagian response untuk debug\n",
        "        return []\n",
        "\n",
        "    print(f\"✅ Scraping: {url}\")\n",
        "\n",
        "    rows = req['mods']['listItems']\n",
        "\n",
        "    produk_all=[]\n",
        "    for i in range(0, len(rows)):\n",
        "        link_produk     = rows[i]['itemUrl']\n",
        "        nama_produk     = rows[i]['name']\n",
        "        brand           = rows[i]['brandName']\n",
        "        harga           = rows[i]['price']\n",
        "        harga_asli      = rows[i].get('originalPrice', \"Null\")\n",
        "        terjual         = rows[i].get('itemSoldCntShow', \"Null\")  # Pakai .get() biar aman\n",
        "        produk_all.append((link_produk, nama_produk, brand, harga, harga_asli, terjual))\n",
        "    return produk_all\n",
        "if __name__ == \"__main__\":\n",
        "    urls = get_urls()\n",
        "\n",
        "    semua_produk=[]\n",
        "    for i in range(0, len(urls)):\n",
        "        produk = scrape(urls[i])\n",
        "        semua_produk.extend(produk)  # Perbaikan, agar semua produk dikumpulkan\n",
        "        time.sleep(random.randint(2, 9))\n",
        "        print(produk)\n",
        "    print(f\"\\nTotal produk berhasil di-scrape: {len(semua_produk)}\")\n",
        "    #    semua_produk.extend(produk)"
      ]
    },
    {
      "cell_type": "markdown",
      "source": [
        "#Cara Kedua"
      ],
      "metadata": {
        "id": "cmkSvk0yI4-z"
      }
    },
    {
      "cell_type": "code",
      "execution_count": null,
      "metadata": {
        "id": "kVR2n2iAIToN"
      },
      "outputs": [],
      "source": [
        "base_url = 'https://www.lazada.co.id/catalog/?ajax=true&page=2&q=dry%20shampoo%20gel'\n",
        "def get_urls():\n",
        "    #req = requests.get(base_url).json()\n",
        "    #tot_produk = int(req['mainInfo']['totalResults'])\\\n",
        "    #total_page= math.ceil(total_produk/40)\n",
        "\n",
        "    urls = []\n",
        "    # for i in range(1, total_page+1)\n",
        "    for i in range(1, 6):\n",
        "        url = 'https://www.lazada.co.id/catalog/?ajax=true&page={}&q=dry%20shampoo%20gel'.format(i)\n",
        "        urls.append(url)\n",
        "    return urls\n",
        "def scrape(url):\n",
        "    req = requests.get(url).json()\n",
        "    # Debug: Cek isi response\n",
        "    print(f\"Scraping: {url}\")\n",
        "    print(req)  # Lihat seluruh respons JSON untuk memastikan struktur benar\n",
        "    rows = req['mods']['listItems']\n",
        "    print(f\"Jumlah produk ditemukan di halaman ini: {len(rows)}\")  # Menampilkan jumlah produk per halaman\n",
        "\n",
        "    produk_all=[]\n",
        "    for i in range(0, len(rows)):\n",
        "        link_produk     = rows[i]['itemUrl']\n",
        "        nama_produk     = rows[i]['name']\n",
        "        brand           = rows[i]['brandName']\n",
        "        harga           = rows[i]['price']\n",
        "        harga_asli      = rows[i].get('originalPrice', \"Null\")\n",
        "        terjual         = rows[i].get('itemSoldCntShow', \"Null\")  # Pakai .get() biar aman\n",
        "        produk_all.append((link_produk, nama_produk, brand, harga, harga_asli, terjual))\n",
        "    return produk_all\n",
        "if __name__ == \"__main__\":\n",
        "    urls = get_urls()\n",
        "\n",
        "    semua_produk=[]\n",
        "    for i in range(0, len(urls)):\n",
        "        produk = scrape(urls[i])\n",
        "        semua_produk.extend(produk)  # Perbaikan, agar semua produk dikumpulkan\n",
        "        time.sleep(random.randint(2, 9))\n",
        "        print(produk)\n",
        "    print(f\"\\nTotal produk berhasil di-scrape: {len(semua_produk)}\")\n",
        "    #    semua_produk.extend(produk)\n",
        "\n",
        "    print(semua_produk)"
      ]
    },
    {
      "cell_type": "markdown",
      "source": [
        "#Simpan"
      ],
      "metadata": {
        "id": "Tupv6zYjJDAu"
      }
    },
    {
      "cell_type": "code",
      "execution_count": null,
      "metadata": {
        "id": "YuM5EPZHIToP",
        "outputId": "1c96317b-6a4e-41b2-a783-733752d7ae84"
      },
      "outputs": [
        {
          "name": "stdout",
          "output_type": "stream",
          "text": [
            "Data berhasil disimpan dalam hasil_scraping.xlsx\n"
          ]
        }
      ],
      "source": [
        "    # Simpan ke Excel\n",
        "    df = pd.DataFrame(semua_produk, columns=[\"Link Produk\", \"Nama Produk\", \"Brand\", \"Harga\", \"Harga Asli\", \"Terjual\"])\n",
        "    df.to_excel(\"hasil_scraping_nonsls.xlsx\", index=False)\n",
        "\n",
        "    print(\"Data berhasil disimpan dalam hasil_scraping.xlsx\")"
      ]
    }
  ],
  "metadata": {
    "kernelspec": {
      "display_name": ".venv",
      "language": "python",
      "name": "python3"
    },
    "language_info": {
      "codemirror_mode": {
        "name": "ipython",
        "version": 3
      },
      "file_extension": ".py",
      "mimetype": "text/x-python",
      "name": "python",
      "nbconvert_exporter": "python",
      "pygments_lexer": "ipython3",
      "version": "3.12.6"
    },
    "colab": {
      "provenance": []
    }
  },
  "nbformat": 4,
  "nbformat_minor": 0
}